{
 "cells": [
  {
   "cell_type": "code",
   "execution_count": 1,
   "metadata": {},
   "outputs": [],
   "source": [
    "# import lib\n",
    "import numpy as np\n",
    "from numpy.random import rand"
   ]
  },
  {
   "cell_type": "code",
   "execution_count": 2,
   "metadata": {},
   "outputs": [],
   "source": [
    "# dataset\n",
    "x = np.array(([0.9,0.8],[0.6,0.3],[0.9,0.1],[0.9,0.8]))\n",
    "y = np.array(([0],[1],[1],[0]))"
   ]
  },
  {
   "cell_type": "code",
   "execution_count": 3,
   "metadata": {},
   "outputs": [],
   "source": [
    "# activation function\n",
    "def sigmoid(z):\n",
    "    return 1/(1+np.exp(-z))\n",
    "\n",
    "# Mulity-layers feedforward neural network (2 hidden layers)\n",
    "class NeuralNetwork:\n",
    "    # constructor\n",
    "    def __init__(self , x , y , nodes_in_layer1 = 4 , nodes_in_layer2 = 3 , nodes_in_layer3 = 1):\n",
    "        # definde x ,y\n",
    "        self.inputs_in_layer0 = x\n",
    "        self.y = y\n",
    "\n",
    "        # definde and set the number of nurons in each layers\n",
    "        self.nodes_in_layer1 = nodes_in_layer1\n",
    "        self.nodes_in_layer2 = nodes_in_layer2\n",
    "        self.nodes_in_layer3 = nodes_in_layer3\n",
    "\n",
    "        # weights (theta) metrix\n",
    "        self.thetas_layer0 = np.random.rand(self.inputs_in_layer0.shape[1] + 1,self.nodes_in_layer1)\n",
    "        self.thetas_layer1 = np.random.rand(self.nodes_in_layer1 + 1,self.nodes_in_layer2)\n",
    "        self.thetas_layer2 = np.random.rand(self.nodes_in_layer2 + 1,nodes_in_layer3)\n",
    "    # feedforward \n",
    "    def feedforward(self):\n",
    "       \n",
    "       self.Z1 = self.thetas_layer0[0] + np.dot(self.inputs_in_layer0,self.thetas_layer0[1:])\n",
    "       self.layer1 = sigmoid(self.Z1)\n",
    "\n",
    "       self.Z2 = self.thetas_layer1[0] + np.dot(self.layer1,self.thetas_layer1[1:])\n",
    "       self.layer2 = sigmoid(self.Z2)\n",
    "\n",
    "       self.Z3 = self.thetas_layer2[0] + np.dot(self.layer2,self.thetas_layer2[1:])\n",
    "       self.layer3 = sigmoid(self.Z3)\n",
    "\n",
    "       return self.layer3"
   ]
  },
  {
   "cell_type": "code",
   "execution_count": 4,
   "metadata": {},
   "outputs": [
    {
     "name": "stdout",
     "output_type": "stream",
     "text": [
      "accuracy output: \n",
      " [[0]\n",
      " [1]\n",
      " [1]\n",
      " [0]]\n",
      "predicted output \n",
      " [[0.93020539]\n",
      " [0.92855735]\n",
      " [0.92840706]\n",
      " [0.93020539]]\n"
     ]
    }
   ],
   "source": [
    "NN = NeuralNetwork(x,y)\n",
    "predicted_output = NN.feedforward()\n",
    "print(\"accuracy output: \\n\",y)\n",
    "print(\"predicted output \\n\",predicted_output)"
   ]
  },
  {
   "cell_type": "code",
   "execution_count": 5,
   "metadata": {},
   "outputs": [
    {
     "data": {
      "text/plain": [
       "array([[0.93020539],\n",
       "       [0.92855735],\n",
       "       [0.92840706],\n",
       "       [0.93020539]])"
      ]
     },
     "execution_count": 5,
     "metadata": {},
     "output_type": "execute_result"
    }
   ],
   "source": [
    "NN.layer3"
   ]
  }
 ],
 "metadata": {
  "kernelspec": {
   "display_name": "Python 3",
   "language": "python",
   "name": "python3"
  },
  "language_info": {
   "codemirror_mode": {
    "name": "ipython",
    "version": 3
   },
   "file_extension": ".py",
   "mimetype": "text/x-python",
   "name": "python",
   "nbconvert_exporter": "python",
   "pygments_lexer": "ipython3",
   "version": "3.10.0"
  }
 },
 "nbformat": 4,
 "nbformat_minor": 2
}
